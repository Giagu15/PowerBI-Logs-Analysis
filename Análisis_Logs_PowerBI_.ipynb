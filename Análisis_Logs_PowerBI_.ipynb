{
  "nbformat": 4,
  "nbformat_minor": 0,
  "metadata": {
    "colab": {
      "provenance": []
    },
    "kernelspec": {
      "name": "python3",
      "display_name": "Python 3"
    },
    "language_info": {
      "name": "python"
    }
  },
  "cells": [
    {
      "cell_type": "code",
      "execution_count": null,
      "metadata": {
        "colab": {
          "base_uri": "https://localhost:8080/"
        },
        "id": "jHws1qI5WNjQ",
        "outputId": "0fe67bc1-8e0f-4a49-8181-503e29363282"
      },
      "outputs": [
        {
          "output_type": "stream",
          "name": "stdout",
          "text": [
            "                                        id  record_type  \\\n",
            "0     bae5e3db-6710-4376-98c3-9f83bbabd0e6           20   \n",
            "1     13b56bad-a1f1-49ac-8637-6bd8b9697a52           20   \n",
            "2     05af8db1-7d0c-49bb-9d7b-e691b10c296d           20   \n",
            "3     6aa9c2b6-d2f9-4ba3-8b27-330bf2fe7314           20   \n",
            "4     3a00fe41-76f4-4343-ae3e-af9b98fd9869           20   \n",
            "...                                    ...          ...   \n",
            "2215  b7cd1b4b-e6b6-42c5-8fcf-91adf4ad6f88           20   \n",
            "2216  c732bd06-c878-4963-8dba-c864cf8241a6           20   \n",
            "2217  cb777b88-0cbc-4e19-a970-25696948d1ee           20   \n",
            "2218  c86cd860-1e78-43a5-912c-bc573f6ff24f           20   \n",
            "2219  b8b929fb-c1dc-4cfe-9eb2-f24f8514c8b6           20   \n",
            "\n",
            "                creation_time      operation  \\\n",
            "0     2023-07-02 12:45:14 UTC     ViewReport   \n",
            "1     2023-07-02 14:35:39 UTC     ViewReport   \n",
            "2     2023-07-01 01:44:10 UTC  GetWorkspaces   \n",
            "3     2023-07-01 01:44:10 UTC  GetWorkspaces   \n",
            "4     2023-07-01 01:42:15 UTC   GetSnapshots   \n",
            "...                       ...            ...   \n",
            "2215  2023-07-02 16:55:03 UTC  GetWorkspaces   \n",
            "2216  2023-07-01 03:07:14 UTC  GetWorkspaces   \n",
            "2217  2023-07-01 03:07:14 UTC  GetWorkspaces   \n",
            "2218  2023-07-01 03:07:07 UTC     ViewReport   \n",
            "2219  2023-07-02 16:54:45 UTC     ViewReport   \n",
            "\n",
            "                           organization_id  user_type          user_key  \\\n",
            "0     5daabe65-ff53-4336-a448-2f61ecf0b059          0  10032001DDDBAC6D   \n",
            "1     5daabe65-ff53-4336-a448-2f61ecf0b059          0  10032001DDDBAC6D   \n",
            "2     5daabe65-ff53-4336-a448-2f61ecf0b059          0  10032001E67C6AF5   \n",
            "3     5daabe65-ff53-4336-a448-2f61ecf0b059          0  10032001E67C6AF5   \n",
            "4     5daabe65-ff53-4336-a448-2f61ecf0b059          0  10032001E67C6AF5   \n",
            "...                                    ...        ...               ...   \n",
            "2215  5daabe65-ff53-4336-a448-2f61ecf0b059          0  100320029A36D65F   \n",
            "2216  5daabe65-ff53-4336-a448-2f61ecf0b059          0  100320029A36D65F   \n",
            "2217  5daabe65-ff53-4336-a448-2f61ecf0b059          0  100320029A36D65F   \n",
            "2218  5daabe65-ff53-4336-a448-2f61ecf0b059          0  100320029A36D65F   \n",
            "2219  5daabe65-ff53-4336-a448-2f61ecf0b059          0  100320029A36D65F   \n",
            "\n",
            "     workload                                     user_id       activity  ...  \\\n",
            "0     PowerBI                  apuente@inretailpharma.com     ViewReport  ...   \n",
            "1     PowerBI                  apuente@inretailpharma.com     ViewReport  ...   \n",
            "2     PowerBI                JJordan@farmaciasperuanas.pe  GetWorkspaces  ...   \n",
            "3     PowerBI                JJordan@farmaciasperuanas.pe  GetWorkspaces  ...   \n",
            "4     PowerBI                JJordan@farmaciasperuanas.pe   GetSnapshots  ...   \n",
            "...       ...                                         ...            ...  ...   \n",
            "2215  PowerBI  Fiorella.Estremadoyro@farmaciasperuanas.pe  GetWorkspaces  ...   \n",
            "2216  PowerBI  Fiorella.Estremadoyro@farmaciasperuanas.pe  GetWorkspaces  ...   \n",
            "2217  PowerBI  Fiorella.Estremadoyro@farmaciasperuanas.pe  GetWorkspaces  ...   \n",
            "2218  PowerBI  Fiorella.Estremadoyro@farmaciasperuanas.pe     ViewReport  ...   \n",
            "2219  PowerBI  Fiorella.Estremadoyro@farmaciasperuanas.pe     ViewReport  ...   \n",
            "\n",
            "     app_name gateway_id  gateway_type datasource_id datasource_type  \\\n",
            "0         NaN        NaN           NaN           NaN             NaN   \n",
            "1         NaN        NaN           NaN           NaN             NaN   \n",
            "2         NaN        NaN           NaN           NaN             NaN   \n",
            "3         NaN        NaN           NaN           NaN             NaN   \n",
            "4         NaN        NaN           NaN           NaN             NaN   \n",
            "...       ...        ...           ...           ...             ...   \n",
            "2215      NaN        NaN           NaN           NaN             NaN   \n",
            "2216      NaN        NaN           NaN           NaN             NaN   \n",
            "2217      NaN        NaN           NaN           NaN             NaN   \n",
            "2218      NaN        NaN           NaN           NaN             NaN   \n",
            "2219      NaN        NaN           NaN           NaN             NaN   \n",
            "\n",
            "     import_id import_source import_type import_display_name company  \n",
            "0          NaN           NaN         NaN                 NaN      74  \n",
            "1          NaN           NaN         NaN                 NaN      74  \n",
            "2          NaN           NaN         NaN                 NaN      74  \n",
            "3          NaN           NaN         NaN                 NaN      74  \n",
            "4          NaN           NaN         NaN                 NaN      74  \n",
            "...        ...           ...         ...                 ...     ...  \n",
            "2215       NaN           NaN         NaN                 NaN      74  \n",
            "2216       NaN           NaN         NaN                 NaN      74  \n",
            "2217       NaN           NaN         NaN                 NaN      74  \n",
            "2218       NaN           NaN         NaN                 NaN      74  \n",
            "2219       NaN           NaN         NaN                 NaN      74  \n",
            "\n",
            "[2220 rows x 37 columns]\n"
          ]
        }
      ],
      "source": [
        "import pandas as pd\n",
        "\n",
        "# Especifica la ruta de tu archivo CSV\n",
        "ruta_archivo = '/content/logs_audit_fper_pbi_20230916_103531.csv'\n",
        "\n",
        "# Lee las primeras 5 filas del archivo CSV en un DataFrame de pandas\n",
        "dataframe = pd.read_csv(ruta_archivo)\n",
        "\n",
        "# Imprime el DataFrame\n",
        "print(dataframe)\n"
      ]
    },
    {
      "cell_type": "code",
      "source": [
        "registros_distintos = dataframe['activity'].unique()\n",
        "\n",
        "# Imprime los registros distintos\n",
        "print(registros_distintos)"
      ],
      "metadata": {
        "colab": {
          "base_uri": "https://localhost:8080/"
        },
        "id": "UlaSbpHaXekk",
        "outputId": "6b077b6b-82ce-4481-8b2a-c56282d10679"
      },
      "execution_count": null,
      "outputs": [
        {
          "output_type": "stream",
          "name": "stdout",
          "text": [
            "['ViewReport' 'GetWorkspaces' 'GetSnapshots' 'ExportReport'\n",
            " 'AnalyzedByExternalApplication' 'EditDataset' 'Import' 'DeleteDataset'\n",
            " 'CreateDataset' 'CreateReport' 'PublishToWebReport' 'EditReport'\n",
            " 'DownloadReport' 'BindMonikersToDatasources' 'RefreshDataset'\n",
            " 'SetScheduledRefresh' 'ShareDataset' 'GenerateEmbedToken'\n",
            " 'GenerateScreenshot' 'RunEmailSubscription']\n"
          ]
        }
      ]
    },
    {
      "cell_type": "code",
      "source": [
        "conteo_actividades = dataframe['activity'].value_counts()\n",
        "\n",
        "# Imprime el conteo de registros por actividad\n",
        "print(conteo_actividades)"
      ],
      "metadata": {
        "colab": {
          "base_uri": "https://localhost:8080/"
        },
        "id": "OQis8r_PYEq-",
        "outputId": "7ceb112b-c0cf-4605-8bf2-591ddc440217"
      },
      "execution_count": null,
      "outputs": [
        {
          "output_type": "stream",
          "name": "stdout",
          "text": [
            "GetWorkspaces                    813\n",
            "AnalyzedByExternalApplication    453\n",
            "ViewReport                       377\n",
            "RefreshDataset                   289\n",
            "ExportReport                      93\n",
            "GenerateEmbedToken                84\n",
            "GetSnapshots                      64\n",
            "EditDataset                       15\n",
            "Import                            14\n",
            "CreateReport                       4\n",
            "DownloadReport                     2\n",
            "GenerateScreenshot                 2\n",
            "RunEmailSubscription               2\n",
            "CreateDataset                      2\n",
            "BindMonikersToDatasources          1\n",
            "EditReport                         1\n",
            "SetScheduledRefresh                1\n",
            "ShareDataset                       1\n",
            "DeleteDataset                      1\n",
            "PublishToWebReport                 1\n",
            "Name: activity, dtype: int64\n"
          ]
        }
      ]
    },
    {
      "cell_type": "code",
      "source": [
        "ruta_excel = '/content/Operation_List_PowerBI_Logs.xlsx'\n",
        "\n",
        "# Lee el archivo Excel en un DataFrame de pandas\n",
        "Operation_list = pd.read_excel(ruta_excel)\n",
        "\n",
        "print(Operation_list)"
      ],
      "metadata": {
        "colab": {
          "base_uri": "https://localhost:8080/"
        },
        "id": "WGW3HGxTZc13",
        "outputId": "77d1a0b4-707f-4c42-936a-f62b00045f08"
      },
      "execution_count": null,
      "outputs": [
        {
          "output_type": "stream",
          "name": "stdout",
          "text": [
            "                           Friendly name                   Operation name  \\\n",
            "0    Add Admin Personal Workspace Access  AddAdminPersonalWorkspaceAccess   \n",
            "1               Add Artifact To Pipeline            AddArtifactToPipeline   \n",
            "2                     Add Experiment Run                 AddExperimentRun   \n",
            "3                      Add Model Version                  AddModelVersion   \n",
            "4                         Add Tenant Key                     AddTenantKey   \n",
            "..                                   ...                              ...   \n",
            "596             Viewed Power BI dataflow                     ViewDataflow   \n",
            "597             Viewed Power BI metadata                     ViewMetadata   \n",
            "598               Viewed Power BI report                       ViewReport   \n",
            "599                 Viewed Power BI tile                         ViewTile   \n",
            "600        Viewed Power BI usage metrics                 ViewUsageMetrics   \n",
            "\n",
            "                                                 Notes  \n",
            "0                                                  NaN  \n",
            "1                                                  NaN  \n",
            "2                                                  NaN  \n",
            "3                                                  NaN  \n",
            "4                                                  NaN  \n",
            "..                                                 ...  \n",
            "596                                                NaN  \n",
            "597                                                NaN  \n",
            "598  A report is also generated per page when expor...  \n",
            "599                                                NaN  \n",
            "600                                                NaN  \n",
            "\n",
            "[601 rows x 3 columns]\n"
          ]
        }
      ]
    },
    {
      "cell_type": "code",
      "source": [
        "actividades = pd.DataFrame({'activity': dataframe['activity'].unique()})\n"
      ],
      "metadata": {
        "id": "RHI26gydbMqS"
      },
      "execution_count": null,
      "outputs": []
    },
    {
      "cell_type": "code",
      "source": [
        "actividades_def = pd.merge(actividades, Operation_list[['Operation name', 'Friendly name']], left_on='activity', right_on='Operation name', how='left')\n",
        "actividades_def.drop('Operation name', axis=1, inplace=True)\n",
        "# Imprime el resultado\n",
        "print(actividades_def)"
      ],
      "metadata": {
        "colab": {
          "base_uri": "https://localhost:8080/"
        },
        "id": "D-GDwPe9aBcS",
        "outputId": "def4cc4e-0ae1-4086-9fbe-4ff8f7ee41b9"
      },
      "execution_count": null,
      "outputs": [
        {
          "output_type": "stream",
          "name": "stdout",
          "text": [
            "                         activity  \\\n",
            "0                      ViewReport   \n",
            "1                   GetWorkspaces   \n",
            "2                    GetSnapshots   \n",
            "3                    ExportReport   \n",
            "4   AnalyzedByExternalApplication   \n",
            "5                     EditDataset   \n",
            "6                          Import   \n",
            "7                   DeleteDataset   \n",
            "8                   CreateDataset   \n",
            "9                    CreateReport   \n",
            "10             PublishToWebReport   \n",
            "11                     EditReport   \n",
            "12                 DownloadReport   \n",
            "13      BindMonikersToDatasources   \n",
            "14                 RefreshDataset   \n",
            "15            SetScheduledRefresh   \n",
            "16                   ShareDataset   \n",
            "17             GenerateEmbedToken   \n",
            "18             GenerateScreenshot   \n",
            "19           RunEmailSubscription   \n",
            "\n",
            "                                        Friendly name  \n",
            "0                              Viewed Power BI report  \n",
            "1                       Retrieved Power BI workspaces  \n",
            "2     Retrieved snapshots for user in Power BI tenant  \n",
            "3   Exported Power BI report to another file forma...  \n",
            "4                    Analyzed Power BI semantic model  \n",
            "5                      Edited Power BI semantic model  \n",
            "6                           Imported file to Power BI  \n",
            "7                     Deleted Power BI semantic model  \n",
            "8                     Created Power BI semantic model  \n",
            "9                             Created Power BI report  \n",
            "10                   Published Power BI report to web  \n",
            "11                             Edited Power BI report  \n",
            "12                         Downloaded Power BI report  \n",
            "13            Binded monikers to Power BI datasources  \n",
            "14          Requested Power BI semantic model refresh  \n",
            "15   Set scheduled refresh on Power BI semantic model  \n",
            "16                     Shared Power BI semantic model  \n",
            "17                     Generated Power BI Embed Token  \n",
            "18                                Generate screenshot  \n",
            "19                    Ran Power BI email subscription  \n"
          ]
        }
      ]
    },
    {
      "cell_type": "code",
      "source": [
        "pip install googletrans==4.0.0-rc1\n"
      ],
      "metadata": {
        "colab": {
          "base_uri": "https://localhost:8080/"
        },
        "id": "t7vP2ye6ctti",
        "outputId": "20cc03e2-7389-4af2-f584-6733c0fff829"
      },
      "execution_count": null,
      "outputs": [
        {
          "output_type": "stream",
          "name": "stdout",
          "text": [
            "Collecting googletrans==4.0.0-rc1\n",
            "  Downloading googletrans-4.0.0rc1.tar.gz (20 kB)\n",
            "  Preparing metadata (setup.py) ... \u001b[?25l\u001b[?25hdone\n",
            "Collecting httpx==0.13.3 (from googletrans==4.0.0-rc1)\n",
            "  Downloading httpx-0.13.3-py3-none-any.whl (55 kB)\n",
            "\u001b[2K     \u001b[90m━━━━━━━━━━━━━━━━━━━━━━━━━━━━━━━━━━━━━━━━\u001b[0m \u001b[32m55.1/55.1 kB\u001b[0m \u001b[31m2.6 MB/s\u001b[0m eta \u001b[36m0:00:00\u001b[0m\n",
            "\u001b[?25hRequirement already satisfied: certifi in /usr/local/lib/python3.10/dist-packages (from httpx==0.13.3->googletrans==4.0.0-rc1) (2023.11.17)\n",
            "Collecting hstspreload (from httpx==0.13.3->googletrans==4.0.0-rc1)\n",
            "  Downloading hstspreload-2024.1.5-py3-none-any.whl (1.1 MB)\n",
            "\u001b[2K     \u001b[90m━━━━━━━━━━━━━━━━━━━━━━━━━━━━━━━━━━━━━━━━\u001b[0m \u001b[32m1.1/1.1 MB\u001b[0m \u001b[31m32.4 MB/s\u001b[0m eta \u001b[36m0:00:00\u001b[0m\n",
            "\u001b[?25hRequirement already satisfied: sniffio in /usr/local/lib/python3.10/dist-packages (from httpx==0.13.3->googletrans==4.0.0-rc1) (1.3.0)\n",
            "Collecting chardet==3.* (from httpx==0.13.3->googletrans==4.0.0-rc1)\n",
            "  Downloading chardet-3.0.4-py2.py3-none-any.whl (133 kB)\n",
            "\u001b[2K     \u001b[90m━━━━━━━━━━━━━━━━━━━━━━━━━━━━━━━━━━━━━━━━\u001b[0m \u001b[32m133.4/133.4 kB\u001b[0m \u001b[31m18.5 MB/s\u001b[0m eta \u001b[36m0:00:00\u001b[0m\n",
            "\u001b[?25hCollecting idna==2.* (from httpx==0.13.3->googletrans==4.0.0-rc1)\n",
            "  Downloading idna-2.10-py2.py3-none-any.whl (58 kB)\n",
            "\u001b[2K     \u001b[90m━━━━━━━━━━━━━━━━━━━━━━━━━━━━━━━━━━━━━━━━\u001b[0m \u001b[32m58.8/58.8 kB\u001b[0m \u001b[31m9.2 MB/s\u001b[0m eta \u001b[36m0:00:00\u001b[0m\n",
            "\u001b[?25hCollecting rfc3986<2,>=1.3 (from httpx==0.13.3->googletrans==4.0.0-rc1)\n",
            "  Downloading rfc3986-1.5.0-py2.py3-none-any.whl (31 kB)\n",
            "Collecting httpcore==0.9.* (from httpx==0.13.3->googletrans==4.0.0-rc1)\n",
            "  Downloading httpcore-0.9.1-py3-none-any.whl (42 kB)\n",
            "\u001b[2K     \u001b[90m━━━━━━━━━━━━━━━━━━━━━━━━━━━━━━━━━━━━━━━━\u001b[0m \u001b[32m42.6/42.6 kB\u001b[0m \u001b[31m5.7 MB/s\u001b[0m eta \u001b[36m0:00:00\u001b[0m\n",
            "\u001b[?25hCollecting h11<0.10,>=0.8 (from httpcore==0.9.*->httpx==0.13.3->googletrans==4.0.0-rc1)\n",
            "  Downloading h11-0.9.0-py2.py3-none-any.whl (53 kB)\n",
            "\u001b[2K     \u001b[90m━━━━━━━━━━━━━━━━━━━━━━━━━━━━━━━━━━━━━━━━\u001b[0m \u001b[32m53.6/53.6 kB\u001b[0m \u001b[31m6.6 MB/s\u001b[0m eta \u001b[36m0:00:00\u001b[0m\n",
            "\u001b[?25hCollecting h2==3.* (from httpcore==0.9.*->httpx==0.13.3->googletrans==4.0.0-rc1)\n",
            "  Downloading h2-3.2.0-py2.py3-none-any.whl (65 kB)\n",
            "\u001b[2K     \u001b[90m━━━━━━━━━━━━━━━━━━━━━━━━━━━━━━━━━━━━━━━━\u001b[0m \u001b[32m65.0/65.0 kB\u001b[0m \u001b[31m9.6 MB/s\u001b[0m eta \u001b[36m0:00:00\u001b[0m\n",
            "\u001b[?25hCollecting hyperframe<6,>=5.2.0 (from h2==3.*->httpcore==0.9.*->httpx==0.13.3->googletrans==4.0.0-rc1)\n",
            "  Downloading hyperframe-5.2.0-py2.py3-none-any.whl (12 kB)\n",
            "Collecting hpack<4,>=3.0 (from h2==3.*->httpcore==0.9.*->httpx==0.13.3->googletrans==4.0.0-rc1)\n",
            "  Downloading hpack-3.0.0-py2.py3-none-any.whl (38 kB)\n",
            "Building wheels for collected packages: googletrans\n",
            "  Building wheel for googletrans (setup.py) ... \u001b[?25l\u001b[?25hdone\n",
            "  Created wheel for googletrans: filename=googletrans-4.0.0rc1-py3-none-any.whl size=17396 sha256=bd57d2a049f4e443eb981b2fb1817847716a6364d224dba4854f06ed2006af76\n",
            "  Stored in directory: /root/.cache/pip/wheels/c0/59/9f/7372f0cf70160fe61b528532e1a7c8498c4becd6bcffb022de\n",
            "Successfully built googletrans\n",
            "Installing collected packages: rfc3986, hyperframe, hpack, h11, chardet, idna, hstspreload, h2, httpcore, httpx, googletrans\n",
            "  Attempting uninstall: chardet\n",
            "    Found existing installation: chardet 5.2.0\n",
            "    Uninstalling chardet-5.2.0:\n",
            "      Successfully uninstalled chardet-5.2.0\n",
            "  Attempting uninstall: idna\n",
            "    Found existing installation: idna 3.6\n",
            "    Uninstalling idna-3.6:\n",
            "      Successfully uninstalled idna-3.6\n",
            "Successfully installed chardet-3.0.4 googletrans-4.0.0rc1 h11-0.9.0 h2-3.2.0 hpack-3.0.0 hstspreload-2024.1.5 httpcore-0.9.1 httpx-0.13.3 hyperframe-5.2.0 idna-2.10 rfc3986-1.5.0\n"
          ]
        }
      ]
    },
    {
      "cell_type": "code",
      "source": [
        "from googletrans import Translator\n",
        "\n",
        "traductor = Translator()\n",
        "actividades_def['Friendly name'] = actividades_def['Friendly name'].apply(lambda x: traductor.translate(x, src='en', dest='es').text)\n",
        "\n",
        "\n",
        "print(actividades_def)"
      ],
      "metadata": {
        "colab": {
          "base_uri": "https://localhost:8080/"
        },
        "id": "iSZeW0oRcfUE",
        "outputId": "bef72873-1e23-4ad5-9840-53a62a0805ac"
      },
      "execution_count": null,
      "outputs": [
        {
          "output_type": "stream",
          "name": "stdout",
          "text": [
            "                         activity  \\\n",
            "0                      ViewReport   \n",
            "1                   GetWorkspaces   \n",
            "2                    GetSnapshots   \n",
            "3                    ExportReport   \n",
            "4   AnalyzedByExternalApplication   \n",
            "5                     EditDataset   \n",
            "6                          Import   \n",
            "7                   DeleteDataset   \n",
            "8                   CreateDataset   \n",
            "9                    CreateReport   \n",
            "10             PublishToWebReport   \n",
            "11                     EditReport   \n",
            "12                 DownloadReport   \n",
            "13      BindMonikersToDatasources   \n",
            "14                 RefreshDataset   \n",
            "15            SetScheduledRefresh   \n",
            "16                   ShareDataset   \n",
            "17             GenerateEmbedToken   \n",
            "18             GenerateScreenshot   \n",
            "19           RunEmailSubscription   \n",
            "\n",
            "                                        Friendly name  \n",
            "0                           Informe de Power BI visto  \n",
            "1                      Power Bi Workpaces recuperados  \n",
            "2   Instantáneas recuperadas para el usuario en el...  \n",
            "3   Informe Power BI exportado a otro formato de a...  \n",
            "4              Modelo semántico de Power Bi analizado  \n",
            "5                Modelo semántico de Power Bi editado  \n",
            "6                        Archivo importado a power bi  \n",
            "7              Modelo semántico de Power Bi eliminado  \n",
            "8                 Modelo semántico de Power Bi creado  \n",
            "9                             Informe creado Power BI  \n",
            "10                  Informe Power BI publicado en Web  \n",
            "11                        Informe de Power BI editado  \n",
            "12                     Informe de Power Bi descargado  \n",
            "13     Aprendedores vinculados a Power Bi DataSources  \n",
            "14  Actualización del modelo semántico de potencia...  \n",
            "15  Establezca una actualización programada en el ...  \n",
            "16         Modelo semántico de potencia compartida bi  \n",
            "17           Token de incrustado de potencia generada  \n",
            "18                        Generar captura de pantalla  \n",
            "19  Ejecutó la suscripción de correo electrónico d...  \n"
          ]
        }
      ]
    },
    {
      "cell_type": "code",
      "source": [
        "conteo_actividades_reporte = dataframe.groupby(['item_name', 'activity']).size().reset_index(name='count')\n",
        "\n",
        "# Ordena el DataFrame por el conteo en orden descendente\n",
        "conteo_actividades_reporte = conteo_actividades_reporte.sort_values(by='count', ascending=False)\n",
        "\n",
        "# Imprime el conteo de registros por actividad ordenado de mayor a menor\n",
        "print(conteo_actividades_reporte)\n",
        "\n"
      ],
      "metadata": {
        "colab": {
          "base_uri": "https://localhost:8080/"
        },
        "id": "kudG3EUViLwt",
        "outputId": "414f6b3b-c981-4659-9c89-b0842e905c31"
      },
      "execution_count": null,
      "outputs": [
        {
          "output_type": "stream",
          "name": "stdout",
          "text": [
            "                                             item_name  \\\n",
            "60   Power BI Desktopa449bc6d-0b30-4535-9109-79dc4b...   \n",
            "98                           dataset_aperturas_cierres   \n",
            "97                         dataset avance regionalesTV   \n",
            "107                dataset_seguimiento_pedidos_digital   \n",
            "18                         Dashboard_ConveniosDoc_Prod   \n",
            "..                                                 ...   \n",
            "20                          Dashboard_HorasExtras_prod   \n",
            "77                REPORTE DE OPERACIONES_CD CHORRILLOS   \n",
            "78                REPORTE DE OPERACIONES_CD CHORRILLOS   \n",
            "40                         Nuevo reporte embalaje.pbix   \n",
            "76                REPORTE DE OPERACIONES_CD CHORRILLOS   \n",
            "\n",
            "                          activity  count  \n",
            "60   AnalyzedByExternalApplication    184  \n",
            "98                  RefreshDataset     96  \n",
            "97                  RefreshDataset     96  \n",
            "107                 RefreshDataset     95  \n",
            "18              GenerateEmbedToken     73  \n",
            "..                             ...    ...  \n",
            "20                    ExportReport      1  \n",
            "77                    CreateReport      1  \n",
            "78                   DeleteDataset      1  \n",
            "40                          Import      1  \n",
            "76                   CreateDataset      1  \n",
            "\n",
            "[108 rows x 3 columns]\n"
          ]
        }
      ]
    }
  ]
}